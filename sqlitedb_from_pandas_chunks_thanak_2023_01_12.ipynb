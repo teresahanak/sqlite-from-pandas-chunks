{
 "cells": [
  {
   "cell_type": "code",
   "execution_count": 1,
   "metadata": {},
   "outputs": [
    {
     "data": {
      "application/javascript": [
       "\n",
       "            setTimeout(function() {\n",
       "                var nbb_cell_id = 1;\n",
       "                var nbb_unformatted_code = \"%load_ext nb_black\\n\\nimport pandas as pd\\nimport sqlite3 as sql\\nimport numpy as np\\nimport chardet\\nimport datetime\";\n",
       "                var nbb_formatted_code = \"%load_ext nb_black\\n\\nimport pandas as pd\\nimport sqlite3 as sql\\nimport numpy as np\\nimport chardet\\nimport datetime\";\n",
       "                var nbb_cells = Jupyter.notebook.get_cells();\n",
       "                for (var i = 0; i < nbb_cells.length; ++i) {\n",
       "                    if (nbb_cells[i].input_prompt_number == nbb_cell_id) {\n",
       "                        if (nbb_cells[i].get_text() == nbb_unformatted_code) {\n",
       "                             nbb_cells[i].set_text(nbb_formatted_code);\n",
       "                        }\n",
       "                        break;\n",
       "                    }\n",
       "                }\n",
       "            }, 500);\n",
       "            "
      ],
      "text/plain": [
       "<IPython.core.display.Javascript object>"
      ]
     },
     "metadata": {},
     "output_type": "display_data"
    }
   ],
   "source": [
    "%load_ext nb_black\n",
    "\n",
    "import pandas as pd\n",
    "import sqlite3 as sql\n",
    "import numpy as np\n",
    "import chardet"
   ]
  },
  {
   "cell_type": "code",
   "execution_count": 2,
   "metadata": {},
   "outputs": [
    {
     "data": {
      "text/html": [
       "<div>\n",
       "<style scoped>\n",
       "    .dataframe tbody tr th:only-of-type {\n",
       "        vertical-align: middle;\n",
       "    }\n",
       "\n",
       "    .dataframe tbody tr th {\n",
       "        vertical-align: top;\n",
       "    }\n",
       "\n",
       "    .dataframe thead th {\n",
       "        text-align: right;\n",
       "    }\n",
       "</style>\n",
       "<table border=\"1\" class=\"dataframe\">\n",
       "  <thead>\n",
       "    <tr style=\"text-align: right;\">\n",
       "      <th></th>\n",
       "      <th>company_permalink</th>\n",
       "      <th>company_name</th>\n",
       "      <th>company_category_code</th>\n",
       "      <th>company_country_code</th>\n",
       "      <th>company_state_code</th>\n",
       "      <th>company_region</th>\n",
       "      <th>company_city</th>\n",
       "      <th>investor_permalink</th>\n",
       "      <th>investor_name</th>\n",
       "      <th>investor_category_code</th>\n",
       "      <th>investor_country_code</th>\n",
       "      <th>investor_state_code</th>\n",
       "      <th>investor_region</th>\n",
       "      <th>investor_city</th>\n",
       "      <th>funding_round_type</th>\n",
       "      <th>funded_at</th>\n",
       "      <th>funded_month</th>\n",
       "      <th>funded_quarter</th>\n",
       "      <th>funded_year</th>\n",
       "      <th>raised_amount_usd</th>\n",
       "    </tr>\n",
       "  </thead>\n",
       "  <tbody>\n",
       "    <tr>\n",
       "      <th>0</th>\n",
       "      <td>/company/advercar</td>\n",
       "      <td>AdverCar</td>\n",
       "      <td>advertising</td>\n",
       "      <td>USA</td>\n",
       "      <td>CA</td>\n",
       "      <td>SF Bay</td>\n",
       "      <td>San Francisco</td>\n",
       "      <td>/company/1-800-flowers-com</td>\n",
       "      <td>1-800-FLOWERS.COM</td>\n",
       "      <td>NaN</td>\n",
       "      <td>USA</td>\n",
       "      <td>NY</td>\n",
       "      <td>New York</td>\n",
       "      <td>New York</td>\n",
       "      <td>series-a</td>\n",
       "      <td>2012-10-30</td>\n",
       "      <td>2012-10</td>\n",
       "      <td>2012-Q4</td>\n",
       "      <td>2012</td>\n",
       "      <td>2000000</td>\n",
       "    </tr>\n",
       "    <tr>\n",
       "      <th>1</th>\n",
       "      <td>/company/launchgram</td>\n",
       "      <td>LaunchGram</td>\n",
       "      <td>news</td>\n",
       "      <td>USA</td>\n",
       "      <td>CA</td>\n",
       "      <td>SF Bay</td>\n",
       "      <td>Mountain View</td>\n",
       "      <td>/company/10xelerator</td>\n",
       "      <td>10Xelerator</td>\n",
       "      <td>finance</td>\n",
       "      <td>USA</td>\n",
       "      <td>OH</td>\n",
       "      <td>Columbus</td>\n",
       "      <td>Columbus</td>\n",
       "      <td>other</td>\n",
       "      <td>2012-01-23</td>\n",
       "      <td>2012-01</td>\n",
       "      <td>2012-Q1</td>\n",
       "      <td>2012</td>\n",
       "      <td>20000</td>\n",
       "    </tr>\n",
       "    <tr>\n",
       "      <th>2</th>\n",
       "      <td>/company/utap</td>\n",
       "      <td>uTaP</td>\n",
       "      <td>messaging</td>\n",
       "      <td>USA</td>\n",
       "      <td>NaN</td>\n",
       "      <td>United States - Other</td>\n",
       "      <td>NaN</td>\n",
       "      <td>/company/10xelerator</td>\n",
       "      <td>10Xelerator</td>\n",
       "      <td>finance</td>\n",
       "      <td>USA</td>\n",
       "      <td>OH</td>\n",
       "      <td>Columbus</td>\n",
       "      <td>Columbus</td>\n",
       "      <td>other</td>\n",
       "      <td>2012-01-01</td>\n",
       "      <td>2012-01</td>\n",
       "      <td>2012-Q1</td>\n",
       "      <td>2012</td>\n",
       "      <td>20000</td>\n",
       "    </tr>\n",
       "    <tr>\n",
       "      <th>3</th>\n",
       "      <td>/company/zoopshop</td>\n",
       "      <td>ZoopShop</td>\n",
       "      <td>software</td>\n",
       "      <td>USA</td>\n",
       "      <td>OH</td>\n",
       "      <td>Columbus</td>\n",
       "      <td>columbus</td>\n",
       "      <td>/company/10xelerator</td>\n",
       "      <td>10Xelerator</td>\n",
       "      <td>finance</td>\n",
       "      <td>USA</td>\n",
       "      <td>OH</td>\n",
       "      <td>Columbus</td>\n",
       "      <td>Columbus</td>\n",
       "      <td>angel</td>\n",
       "      <td>2012-02-15</td>\n",
       "      <td>2012-02</td>\n",
       "      <td>2012-Q1</td>\n",
       "      <td>2012</td>\n",
       "      <td>20000</td>\n",
       "    </tr>\n",
       "    <tr>\n",
       "      <th>4</th>\n",
       "      <td>/company/efuneral</td>\n",
       "      <td>eFuneral</td>\n",
       "      <td>web</td>\n",
       "      <td>USA</td>\n",
       "      <td>OH</td>\n",
       "      <td>Cleveland</td>\n",
       "      <td>Cleveland</td>\n",
       "      <td>/company/10xelerator</td>\n",
       "      <td>10Xelerator</td>\n",
       "      <td>finance</td>\n",
       "      <td>USA</td>\n",
       "      <td>OH</td>\n",
       "      <td>Columbus</td>\n",
       "      <td>Columbus</td>\n",
       "      <td>other</td>\n",
       "      <td>2011-09-08</td>\n",
       "      <td>2011-09</td>\n",
       "      <td>2011-Q3</td>\n",
       "      <td>2011</td>\n",
       "      <td>20000</td>\n",
       "    </tr>\n",
       "  </tbody>\n",
       "</table>\n",
       "</div>"
      ],
      "text/plain": [
       "     company_permalink company_name company_category_code  \\\n",
       "0    /company/advercar     AdverCar           advertising   \n",
       "1  /company/launchgram   LaunchGram                  news   \n",
       "2        /company/utap         uTaP             messaging   \n",
       "3    /company/zoopshop     ZoopShop              software   \n",
       "4    /company/efuneral     eFuneral                   web   \n",
       "\n",
       "  company_country_code company_state_code         company_region  \\\n",
       "0                  USA                 CA                 SF Bay   \n",
       "1                  USA                 CA                 SF Bay   \n",
       "2                  USA                NaN  United States - Other   \n",
       "3                  USA                 OH               Columbus   \n",
       "4                  USA                 OH              Cleveland   \n",
       "\n",
       "    company_city          investor_permalink      investor_name  \\\n",
       "0  San Francisco  /company/1-800-flowers-com  1-800-FLOWERS.COM   \n",
       "1  Mountain View        /company/10xelerator        10Xelerator   \n",
       "2            NaN        /company/10xelerator        10Xelerator   \n",
       "3       columbus        /company/10xelerator        10Xelerator   \n",
       "4      Cleveland        /company/10xelerator        10Xelerator   \n",
       "\n",
       "  investor_category_code investor_country_code investor_state_code  \\\n",
       "0                    NaN                   USA                  NY   \n",
       "1                finance                   USA                  OH   \n",
       "2                finance                   USA                  OH   \n",
       "3                finance                   USA                  OH   \n",
       "4                finance                   USA                  OH   \n",
       "\n",
       "  investor_region investor_city funding_round_type   funded_at funded_month  \\\n",
       "0        New York      New York           series-a  2012-10-30      2012-10   \n",
       "1        Columbus      Columbus              other  2012-01-23      2012-01   \n",
       "2        Columbus      Columbus              other  2012-01-01      2012-01   \n",
       "3        Columbus      Columbus              angel  2012-02-15      2012-02   \n",
       "4        Columbus      Columbus              other  2011-09-08      2011-09   \n",
       "\n",
       "  funded_quarter  funded_year  raised_amount_usd  \n",
       "0        2012-Q4         2012            2000000  \n",
       "1        2012-Q1         2012              20000  \n",
       "2        2012-Q1         2012              20000  \n",
       "3        2012-Q1         2012              20000  \n",
       "4        2011-Q3         2011              20000  "
      ]
     },
     "execution_count": 2,
     "metadata": {},
     "output_type": "execute_result"
    },
    {
     "data": {
      "application/javascript": [
       "\n",
       "            setTimeout(function() {\n",
       "                var nbb_cell_id = 2;\n",
       "                var nbb_unformatted_code = \"first_5 = pd.read_csv(\\\"crunchbase-investments.csv\\\", nrows=5)\\nfirst_5\";\n",
       "                var nbb_formatted_code = \"first_5 = pd.read_csv(\\\"crunchbase-investments.csv\\\", nrows=5)\\nfirst_5\";\n",
       "                var nbb_cells = Jupyter.notebook.get_cells();\n",
       "                for (var i = 0; i < nbb_cells.length; ++i) {\n",
       "                    if (nbb_cells[i].input_prompt_number == nbb_cell_id) {\n",
       "                        if (nbb_cells[i].get_text() == nbb_unformatted_code) {\n",
       "                             nbb_cells[i].set_text(nbb_formatted_code);\n",
       "                        }\n",
       "                        break;\n",
       "                    }\n",
       "                }\n",
       "            }, 500);\n",
       "            "
      ],
      "text/plain": [
       "<IPython.core.display.Javascript object>"
      ]
     },
     "metadata": {},
     "output_type": "display_data"
    }
   ],
   "source": [
    "first_5 = pd.read_csv(\"crunchbase-investments.csv\", nrows=5)\n",
    "first_5"
   ]
  },
  {
   "cell_type": "code",
   "execution_count": 3,
   "metadata": {},
   "outputs": [
    {
     "name": "stdout",
     "output_type": "stream",
     "text": [
      "<class 'pandas.core.frame.DataFrame'>\n",
      "RangeIndex: 5 entries, 0 to 4\n",
      "Data columns (total 20 columns):\n",
      " #   Column                  Non-Null Count  Dtype \n",
      "---  ------                  --------------  ----- \n",
      " 0   company_permalink       5 non-null      object\n",
      " 1   company_name            5 non-null      object\n",
      " 2   company_category_code   5 non-null      object\n",
      " 3   company_country_code    5 non-null      object\n",
      " 4   company_state_code      4 non-null      object\n",
      " 5   company_region          5 non-null      object\n",
      " 6   company_city            4 non-null      object\n",
      " 7   investor_permalink      5 non-null      object\n",
      " 8   investor_name           5 non-null      object\n",
      " 9   investor_category_code  4 non-null      object\n",
      " 10  investor_country_code   5 non-null      object\n",
      " 11  investor_state_code     5 non-null      object\n",
      " 12  investor_region         5 non-null      object\n",
      " 13  investor_city           5 non-null      object\n",
      " 14  funding_round_type      5 non-null      object\n",
      " 15  funded_at               5 non-null      object\n",
      " 16  funded_month            5 non-null      object\n",
      " 17  funded_quarter          5 non-null      object\n",
      " 18  funded_year             5 non-null      int64 \n",
      " 19  raised_amount_usd       5 non-null      int64 \n",
      "dtypes: int64(2), object(18)\n",
      "memory usage: 928.0+ bytes\n"
     ]
    },
    {
     "data": {
      "application/javascript": [
       "\n",
       "            setTimeout(function() {\n",
       "                var nbb_cell_id = 3;\n",
       "                var nbb_unformatted_code = \"first_5.info()\";\n",
       "                var nbb_formatted_code = \"first_5.info()\";\n",
       "                var nbb_cells = Jupyter.notebook.get_cells();\n",
       "                for (var i = 0; i < nbb_cells.length; ++i) {\n",
       "                    if (nbb_cells[i].input_prompt_number == nbb_cell_id) {\n",
       "                        if (nbb_cells[i].get_text() == nbb_unformatted_code) {\n",
       "                             nbb_cells[i].set_text(nbb_formatted_code);\n",
       "                        }\n",
       "                        break;\n",
       "                    }\n",
       "                }\n",
       "            }, 500);\n",
       "            "
      ],
      "text/plain": [
       "<IPython.core.display.Javascript object>"
      ]
     },
     "metadata": {},
     "output_type": "display_data"
    }
   ],
   "source": [
    "first_5.info()"
   ]
  },
  {
   "cell_type": "markdown",
   "metadata": {},
   "source": [
    "#### Observations:\n",
    "- A quick glance at the first 5 rows shows us there are columns, 18 of which are object type.\n",
    "- `year` and `raised_amount_used` are appropriately int64 type for these rows.\n",
    "- Both `permalink` rows can be ignored as they will not add to the analysis.\n",
    "- Additionally, we can ignore the redundant `funded_month`, `funded_quarter`, and `funded_year` columns, if `funded_at` is not missing more values than these columns.\n",
    "- `funded_at` can be parsed as datetime type.\n",
    "- The remainder of the columns appear appropriate for typecasting as category, but we will verify their unique values."
   ]
  },
  {
   "cell_type": "markdown",
   "metadata": {},
   "source": [
    "## Batch Processing Preparation"
   ]
  },
  {
   "cell_type": "markdown",
   "metadata": {},
   "source": [
    "#### Creating List of Columns to Include"
   ]
  },
  {
   "cell_type": "code",
   "execution_count": 4,
   "metadata": {},
   "outputs": [
    {
     "name": "stdout",
     "output_type": "stream",
     "text": [
      "We are currently including 18 columns.\n"
     ]
    },
    {
     "data": {
      "application/javascript": [
       "\n",
       "            setTimeout(function() {\n",
       "                var nbb_cell_id = 4;\n",
       "                var nbb_unformatted_code = \"usecols = first_5.columns.tolist()\\nusecols.remove(\\\"company_permalink\\\")\\nusecols.remove(\\\"investor_permalink\\\")\\nprint(f\\\"We are currently including {len(usecols)} columns.\\\")\";\n",
       "                var nbb_formatted_code = \"usecols = first_5.columns.tolist()\\nusecols.remove(\\\"company_permalink\\\")\\nusecols.remove(\\\"investor_permalink\\\")\\nprint(f\\\"We are currently including {len(usecols)} columns.\\\")\";\n",
       "                var nbb_cells = Jupyter.notebook.get_cells();\n",
       "                for (var i = 0; i < nbb_cells.length; ++i) {\n",
       "                    if (nbb_cells[i].input_prompt_number == nbb_cell_id) {\n",
       "                        if (nbb_cells[i].get_text() == nbb_unformatted_code) {\n",
       "                             nbb_cells[i].set_text(nbb_formatted_code);\n",
       "                        }\n",
       "                        break;\n",
       "                    }\n",
       "                }\n",
       "            }, 500);\n",
       "            "
      ],
      "text/plain": [
       "<IPython.core.display.Javascript object>"
      ]
     },
     "metadata": {},
     "output_type": "display_data"
    }
   ],
   "source": [
    "usecols = first_5.columns.tolist()\n",
    "usecols.remove(\"company_permalink\")\n",
    "usecols.remove(\"investor_permalink\")\n",
    "print(f\"We are currently including {len(usecols)} columns.\")"
   ]
  },
  {
   "cell_type": "markdown",
   "metadata": {},
   "source": [
    "#### Assigning Variables for `pd.read_csv()`"
   ]
  },
  {
   "cell_type": "code",
   "execution_count": 5,
   "metadata": {},
   "outputs": [
    {
     "data": {
      "application/javascript": [
       "\n",
       "            setTimeout(function() {\n",
       "                var nbb_cell_id = 5;\n",
       "                var nbb_unformatted_code = \"file = \\\"crunchbase-investments.csv\\\"\\nchunksize = 5000\\nencoding = \\\"latin1\\\"\";\n",
       "                var nbb_formatted_code = \"file = \\\"crunchbase-investments.csv\\\"\\nchunksize = 5000\\nencoding = \\\"latin1\\\"\";\n",
       "                var nbb_cells = Jupyter.notebook.get_cells();\n",
       "                for (var i = 0; i < nbb_cells.length; ++i) {\n",
       "                    if (nbb_cells[i].input_prompt_number == nbb_cell_id) {\n",
       "                        if (nbb_cells[i].get_text() == nbb_unformatted_code) {\n",
       "                             nbb_cells[i].set_text(nbb_formatted_code);\n",
       "                        }\n",
       "                        break;\n",
       "                    }\n",
       "                }\n",
       "            }, 500);\n",
       "            "
      ],
      "text/plain": [
       "<IPython.core.display.Javascript object>"
      ]
     },
     "metadata": {},
     "output_type": "display_data"
    }
   ],
   "source": [
    "file = \"crunchbase-investments.csv\"\n",
    "chunksize = 5000\n",
    "encoding = \"latin1\""
   ]
  },
  {
   "cell_type": "markdown",
   "metadata": {},
   "source": [
    "#### Calculating Total Number of Rows"
   ]
  },
  {
   "cell_type": "code",
   "execution_count": 6,
   "metadata": {},
   "outputs": [
    {
     "name": "stdout",
     "output_type": "stream",
     "text": [
      "There are 52870 total rows in the dataset.\n"
     ]
    },
    {
     "data": {
      "application/javascript": [
       "\n",
       "            setTimeout(function() {\n",
       "                var nbb_cell_id = 6;\n",
       "                var nbb_unformatted_code = \"chunk_iter = pd.read_csv(file, chunksize=chunksize, encoding=encoding, usecols=usecols)\\ntotal_rows = np.array([len(chunk) for chunk in chunk_iter]).sum()\\nprint(f\\\"There are {total_rows} total rows in the dataset.\\\")\";\n",
       "                var nbb_formatted_code = \"chunk_iter = pd.read_csv(file, chunksize=chunksize, encoding=encoding, usecols=usecols)\\ntotal_rows = np.array([len(chunk) for chunk in chunk_iter]).sum()\\nprint(f\\\"There are {total_rows} total rows in the dataset.\\\")\";\n",
       "                var nbb_cells = Jupyter.notebook.get_cells();\n",
       "                for (var i = 0; i < nbb_cells.length; ++i) {\n",
       "                    if (nbb_cells[i].input_prompt_number == nbb_cell_id) {\n",
       "                        if (nbb_cells[i].get_text() == nbb_unformatted_code) {\n",
       "                             nbb_cells[i].set_text(nbb_formatted_code);\n",
       "                        }\n",
       "                        break;\n",
       "                    }\n",
       "                }\n",
       "            }, 500);\n",
       "            "
      ],
      "text/plain": [
       "<IPython.core.display.Javascript object>"
      ]
     },
     "metadata": {},
     "output_type": "display_data"
    }
   ],
   "source": [
    "chunk_iter = pd.read_csv(file, chunksize=chunksize, encoding=encoding, usecols=usecols)\n",
    "total_rows = np.array([len(chunk) for chunk in chunk_iter]).sum()\n",
    "print(f\"There are {total_rows} total rows in the dataset.\")"
   ]
  },
  {
   "cell_type": "markdown",
   "metadata": {},
   "source": [
    "#### Checking Memory Footprint by Chunk for `chunksize=5000`"
   ]
  },
  {
   "cell_type": "code",
   "execution_count": 7,
   "metadata": {},
   "outputs": [
    {
     "name": "stdout",
     "output_type": "stream",
     "text": [
      "Memory for Each Chunk in MB:\n"
     ]
    },
    {
     "data": {
      "text/plain": [
       "[4.807390213012695,\n",
       " 4.689476013183594,\n",
       " 4.693775177001953,\n",
       " 4.691075325012207,\n",
       " 4.679686546325684,\n",
       " 4.702727317810059,\n",
       " 4.686784744262695,\n",
       " 4.677568435668945,\n",
       " 4.583010673522949,\n",
       " 3.912022590637207,\n",
       " 2.2458419799804688]"
      ]
     },
     "execution_count": 7,
     "metadata": {},
     "output_type": "execute_result"
    },
    {
     "data": {
      "application/javascript": [
       "\n",
       "            setTimeout(function() {\n",
       "                var nbb_cell_id = 7;\n",
       "                var nbb_unformatted_code = \"print(\\\"Memory for Each Chunk in MB:\\\")\\nchunk_iter = pd.read_csv(file, chunksize=chunksize, encoding=encoding, usecols=usecols)\\n[chunk.memory_usage(deep=True).sum() / (2**20) for chunk in chunk_iter]\";\n",
       "                var nbb_formatted_code = \"print(\\\"Memory for Each Chunk in MB:\\\")\\nchunk_iter = pd.read_csv(file, chunksize=chunksize, encoding=encoding, usecols=usecols)\\n[chunk.memory_usage(deep=True).sum() / (2**20) for chunk in chunk_iter]\";\n",
       "                var nbb_cells = Jupyter.notebook.get_cells();\n",
       "                for (var i = 0; i < nbb_cells.length; ++i) {\n",
       "                    if (nbb_cells[i].input_prompt_number == nbb_cell_id) {\n",
       "                        if (nbb_cells[i].get_text() == nbb_unformatted_code) {\n",
       "                             nbb_cells[i].set_text(nbb_formatted_code);\n",
       "                        }\n",
       "                        break;\n",
       "                    }\n",
       "                }\n",
       "            }, 500);\n",
       "            "
      ],
      "text/plain": [
       "<IPython.core.display.Javascript object>"
      ]
     },
     "metadata": {},
     "output_type": "display_data"
    }
   ],
   "source": [
    "print(\"Memory for Each Chunk in MB:\")\n",
    "chunk_iter = pd.read_csv(file, chunksize=chunksize, encoding=encoding, usecols=usecols)\n",
    "[chunk.memory_usage(deep=True).sum() / (2**20) for chunk in chunk_iter]"
   ]
  },
  {
   "cell_type": "markdown",
   "metadata": {},
   "source": [
    "#### Observations:\n",
    "- We are staying comfortably below the 50% mark of our allotted RAM of 10 MB with `chunksize=5000`."
   ]
  },
  {
   "cell_type": "markdown",
   "metadata": {},
   "source": [
    "#### Calculating Initial Memory Footprint in MB by Column and Total"
   ]
  },
  {
   "cell_type": "code",
   "execution_count": 8,
   "metadata": {},
   "outputs": [
    {
     "name": "stdout",
     "output_type": "stream",
     "text": [
      "Initial Memory Footprint in MB:\n",
      "\n",
      "Index                     0.001381\n",
      "company_category_code     3.262619\n",
      "company_city              3.343512\n",
      "company_country_code      3.025223\n",
      "company_name              3.424955\n",
      "company_region            3.253541\n",
      "company_state_code        2.962161\n",
      "funded_at                 3.378091\n",
      "funded_month              3.226837\n",
      "funded_quarter            3.226837\n",
      "funded_year               0.403366\n",
      "funding_round_type        3.252704\n",
      "investor_category_code    0.593590\n",
      "investor_city             2.751430\n",
      "investor_country_code     2.524654\n",
      "investor_name             3.734270\n",
      "investor_region           3.238946\n",
      "investor_state_code       2.361876\n",
      "raised_amount_usd         0.403366\n",
      "dtype: float64 \n",
      "\n",
      "Total:  48.37 MB\n"
     ]
    },
    {
     "data": {
      "application/javascript": [
       "\n",
       "            setTimeout(function() {\n",
       "                var nbb_cell_id = 8;\n",
       "                var nbb_unformatted_code = \"print(\\\"Initial Memory Footprint in MB:\\\\n\\\")\\nchunk_iter = pd.read_csv(\\n    file,\\n    chunksize=chunksize,\\n    usecols=usecols,\\n    encoding=encoding,\\n)\\nchunk_memory = pd.concat([chunk.memory_usage(deep=True) for chunk in chunk_iter])\\ninitial_footprint = chunk_memory.groupby(chunk_memory.index).sum() / (2**20)\\nprint(initial_footprint, \\\"\\\\n\\\")\\nprint(\\\"Total: \\\", np.round(initial_footprint.sum(), 2), \\\"MB\\\")\";\n",
       "                var nbb_formatted_code = \"print(\\\"Initial Memory Footprint in MB:\\\\n\\\")\\nchunk_iter = pd.read_csv(\\n    file,\\n    chunksize=chunksize,\\n    usecols=usecols,\\n    encoding=encoding,\\n)\\nchunk_memory = pd.concat([chunk.memory_usage(deep=True) for chunk in chunk_iter])\\ninitial_footprint = chunk_memory.groupby(chunk_memory.index).sum() / (2**20)\\nprint(initial_footprint, \\\"\\\\n\\\")\\nprint(\\\"Total: \\\", np.round(initial_footprint.sum(), 2), \\\"MB\\\")\";\n",
       "                var nbb_cells = Jupyter.notebook.get_cells();\n",
       "                for (var i = 0; i < nbb_cells.length; ++i) {\n",
       "                    if (nbb_cells[i].input_prompt_number == nbb_cell_id) {\n",
       "                        if (nbb_cells[i].get_text() == nbb_unformatted_code) {\n",
       "                             nbb_cells[i].set_text(nbb_formatted_code);\n",
       "                        }\n",
       "                        break;\n",
       "                    }\n",
       "                }\n",
       "            }, 500);\n",
       "            "
      ],
      "text/plain": [
       "<IPython.core.display.Javascript object>"
      ]
     },
     "metadata": {},
     "output_type": "display_data"
    }
   ],
   "source": [
    "print(\"Initial Memory Footprint in MB:\\n\")\n",
    "chunk_iter = pd.read_csv(\n",
    "    file,\n",
    "    chunksize=chunksize,\n",
    "    usecols=usecols,\n",
    "    encoding=encoding,\n",
    ")\n",
    "chunk_memory = pd.concat([chunk.memory_usage(deep=True) for chunk in chunk_iter])\n",
    "initial_footprint = chunk_memory.groupby(chunk_memory.index).sum() / (2**20)\n",
    "print(initial_footprint, \"\\n\")\n",
    "print(\"Total: \", np.round(initial_footprint.sum(), 2), \"MB\")"
   ]
  },
  {
   "cell_type": "markdown",
   "metadata": {},
   "source": [
    "#### Observations:\n",
    "- With the default column datatypes, the datasets's initial memory footprint is ~48 MB."
   ]
  },
  {
   "cell_type": "markdown",
   "metadata": {},
   "source": [
    "#### Verifying Default Datatypes by Chunk"
   ]
  },
  {
   "cell_type": "code",
   "execution_count": 9,
   "metadata": {},
   "outputs": [
    {
     "data": {
      "text/plain": [
       "company_category_code   object     11\n",
       "company_city            object     11\n",
       "company_country_code    object     11\n",
       "company_name            object     11\n",
       "company_region          object     11\n",
       "company_state_code      object     11\n",
       "funded_at               object     11\n",
       "funded_month            object     11\n",
       "funded_quarter          object     11\n",
       "funded_year             int64      10\n",
       "                        float64     1\n",
       "funding_round_type      object     11\n",
       "investor_category_code  float64    10\n",
       "                        object      1\n",
       "investor_city           object      9\n",
       "                        float64     2\n",
       "investor_country_code   object      9\n",
       "                        float64     2\n",
       "investor_name           object     11\n",
       "investor_region         object     11\n",
       "investor_state_code     object      9\n",
       "                        float64     2\n",
       "raised_amount_usd       float64    11\n",
       "dtype: int64"
      ]
     },
     "execution_count": 9,
     "metadata": {},
     "output_type": "execute_result"
    },
    {
     "data": {
      "application/javascript": [
       "\n",
       "            setTimeout(function() {\n",
       "                var nbb_cell_id = 9;\n",
       "                var nbb_unformatted_code = \"chunk_iter = pd.read_csv(file, chunksize=chunksize, encoding=encoding, usecols=usecols)\\nchunk_dtypes = pd.concat([chunk.dtypes for chunk in chunk_iter])\\noverall_dtypes = chunk_dtypes.groupby(chunk_dtypes.index).value_counts()\\noverall_dtypes\";\n",
       "                var nbb_formatted_code = \"chunk_iter = pd.read_csv(file, chunksize=chunksize, encoding=encoding, usecols=usecols)\\nchunk_dtypes = pd.concat([chunk.dtypes for chunk in chunk_iter])\\noverall_dtypes = chunk_dtypes.groupby(chunk_dtypes.index).value_counts()\\noverall_dtypes\";\n",
       "                var nbb_cells = Jupyter.notebook.get_cells();\n",
       "                for (var i = 0; i < nbb_cells.length; ++i) {\n",
       "                    if (nbb_cells[i].input_prompt_number == nbb_cell_id) {\n",
       "                        if (nbb_cells[i].get_text() == nbb_unformatted_code) {\n",
       "                             nbb_cells[i].set_text(nbb_formatted_code);\n",
       "                        }\n",
       "                        break;\n",
       "                    }\n",
       "                }\n",
       "            }, 500);\n",
       "            "
      ],
      "text/plain": [
       "<IPython.core.display.Javascript object>"
      ]
     },
     "metadata": {},
     "output_type": "display_data"
    }
   ],
   "source": [
    "chunk_iter = pd.read_csv(file, chunksize=chunksize, encoding=encoding, usecols=usecols)\n",
    "chunk_dtypes = pd.concat([chunk.dtypes for chunk in chunk_iter])\n",
    "overall_dtypes = chunk_dtypes.groupby(chunk_dtypes.index).value_counts()\n",
    "overall_dtypes"
   ]
  },
  {
   "cell_type": "markdown",
   "metadata": {},
   "source": [
    "#### Observations:\n",
    "- We have 5 columns that change datatype across chunks.\n",
    "- `funded_year` has some float values, that are likely NaNs, but is consistently numeric.\n",
    "- `investor_category_code` has one chunk that is object rather than float.\n",
    "- `investor_city`, `investor_country_code`, and `investor_state_code` have 2 chunks that are float rather than object.\n",
    "- Let us check the missing values before making any decisions."
   ]
  },
  {
   "cell_type": "markdown",
   "metadata": {},
   "source": [
    "#### Checking Missing Values by Column"
   ]
  },
  {
   "cell_type": "code",
   "execution_count": 10,
   "metadata": {},
   "outputs": [
    {
     "name": "stdout",
     "output_type": "stream",
     "text": [
      "Percentage of Missing Values:\n"
     ]
    },
    {
     "data": {
      "text/plain": [
       "company_category_code      1.216191\n",
       "company_city               1.008133\n",
       "company_country_code       0.001891\n",
       "company_name               0.001891\n",
       "company_region             0.001891\n",
       "company_state_code         0.930584\n",
       "funded_at                  0.005674\n",
       "funded_month               0.005674\n",
       "funded_quarter             0.005674\n",
       "funded_year                0.005674\n",
       "funding_round_type         0.005674\n",
       "investor_category_code    95.379232\n",
       "investor_city             23.605069\n",
       "investor_country_code     22.699073\n",
       "investor_name              0.003783\n",
       "investor_region            0.003783\n",
       "investor_state_code       31.793077\n",
       "raised_amount_usd          6.807263\n",
       "dtype: float64"
      ]
     },
     "execution_count": 10,
     "metadata": {},
     "output_type": "execute_result"
    },
    {
     "data": {
      "application/javascript": [
       "\n",
       "            setTimeout(function() {\n",
       "                var nbb_cell_id = 10;\n",
       "                var nbb_unformatted_code = \"print(\\\"Percentage of Missing Values:\\\")\\nchunk_iter = pd.read_csv(file, chunksize=chunksize, encoding=encoding, usecols=usecols)\\nchunk_missing = pd.concat([chunk.isna().sum() for chunk in chunk_iter])\\ntotal_perc_missing = chunk_missing.groupby(chunk_missing.index).sum() / total_rows * 100\\ntotal_perc_missing\";\n",
       "                var nbb_formatted_code = \"print(\\\"Percentage of Missing Values:\\\")\\nchunk_iter = pd.read_csv(file, chunksize=chunksize, encoding=encoding, usecols=usecols)\\nchunk_missing = pd.concat([chunk.isna().sum() for chunk in chunk_iter])\\ntotal_perc_missing = chunk_missing.groupby(chunk_missing.index).sum() / total_rows * 100\\ntotal_perc_missing\";\n",
       "                var nbb_cells = Jupyter.notebook.get_cells();\n",
       "                for (var i = 0; i < nbb_cells.length; ++i) {\n",
       "                    if (nbb_cells[i].input_prompt_number == nbb_cell_id) {\n",
       "                        if (nbb_cells[i].get_text() == nbb_unformatted_code) {\n",
       "                             nbb_cells[i].set_text(nbb_formatted_code);\n",
       "                        }\n",
       "                        break;\n",
       "                    }\n",
       "                }\n",
       "            }, 500);\n",
       "            "
      ],
      "text/plain": [
       "<IPython.core.display.Javascript object>"
      ]
     },
     "metadata": {},
     "output_type": "display_data"
    }
   ],
   "source": [
    "print(\"Percentage of Missing Values:\")\n",
    "chunk_iter = pd.read_csv(file, chunksize=chunksize, encoding=encoding, usecols=usecols)\n",
    "chunk_missing = pd.concat([chunk.isna().sum() for chunk in chunk_iter])\n",
    "total_perc_missing = chunk_missing.groupby(chunk_missing.index).sum() / total_rows * 100\n",
    "total_perc_missing"
   ]
  },
  {
   "cell_type": "markdown",
   "metadata": {},
   "source": [
    "#### Observations:\n",
    "- `investor_category_code` almost all missing values, so we will ignore it.\n",
    "- `investor_city`, `investor_country_code`, and `investor_state_code` all have a high proportion of missing values.  In practice, we would discuss the analysis requirements with the domain expert or assess the key questions of the analysis before making a decision.  For the purpose of this example project, we will ignore these columns, assuming some of the same information is captured by `investor_region` that has very few null values.\n",
    "- The same applies to the columns containing temporal information.  All of the `funded_` columns have the same (very low) number of missing values, so they are likely the same rows.  In practice that would be confirmed.  Here, we will keep `funded_at` to typecast as datetime and `funding_round_type` and ignore the others."
   ]
  },
  {
   "cell_type": "markdown",
   "metadata": {},
   "source": [
    "#### Updating `usecols`"
   ]
  },
  {
   "cell_type": "code",
   "execution_count": 11,
   "metadata": {},
   "outputs": [
    {
     "name": "stdout",
     "output_type": "stream",
     "text": [
      "There are 11 remaining columns in usecols.\n"
     ]
    },
    {
     "data": {
      "application/javascript": [
       "\n",
       "            setTimeout(function() {\n",
       "                var nbb_cell_id = 11;\n",
       "                var nbb_unformatted_code = \"cols_to_ignore = [\\n    \\\"investor_category_code\\\",\\n    \\\"investor_city\\\",\\n    \\\"investor_country_code\\\",\\n    \\\"investor_state_code\\\",\\n    \\\"funded_month\\\",\\n    \\\"funded_quarter\\\",\\n    \\\"funded_year\\\",\\n]\\nfor col in cols_to_ignore:\\n    usecols.remove(col)\\nprint(f\\\"There are {len(usecols)} remaining columns in usecols.\\\")\";\n",
       "                var nbb_formatted_code = \"cols_to_ignore = [\\n    \\\"investor_category_code\\\",\\n    \\\"investor_city\\\",\\n    \\\"investor_country_code\\\",\\n    \\\"investor_state_code\\\",\\n    \\\"funded_month\\\",\\n    \\\"funded_quarter\\\",\\n    \\\"funded_year\\\",\\n]\\nfor col in cols_to_ignore:\\n    usecols.remove(col)\\nprint(f\\\"There are {len(usecols)} remaining columns in usecols.\\\")\";\n",
       "                var nbb_cells = Jupyter.notebook.get_cells();\n",
       "                for (var i = 0; i < nbb_cells.length; ++i) {\n",
       "                    if (nbb_cells[i].input_prompt_number == nbb_cell_id) {\n",
       "                        if (nbb_cells[i].get_text() == nbb_unformatted_code) {\n",
       "                             nbb_cells[i].set_text(nbb_formatted_code);\n",
       "                        }\n",
       "                        break;\n",
       "                    }\n",
       "                }\n",
       "            }, 500);\n",
       "            "
      ],
      "text/plain": [
       "<IPython.core.display.Javascript object>"
      ]
     },
     "metadata": {},
     "output_type": "display_data"
    }
   ],
   "source": [
    "cols_to_ignore = [\n",
    "    \"investor_category_code\",\n",
    "    \"investor_city\",\n",
    "    \"investor_country_code\",\n",
    "    \"investor_state_code\",\n",
    "    \"funded_month\",\n",
    "    \"funded_quarter\",\n",
    "    \"funded_year\",\n",
    "]\n",
    "for col in cols_to_ignore:\n",
    "    usecols.remove(col)\n",
    "print(f\"There are {len(usecols)} remaining columns in usecols.\")"
   ]
  },
  {
   "cell_type": "markdown",
   "metadata": {},
   "source": [
    "## Optimizing Data Types\n",
    "- We are ignoring all of the columns that had variation in datatype across chunks, so we are left with 11 object type columns and 1 float type to optimize.\n",
    "- Let us first instantiate a dictionary for `dtypes` and assign some parameters of `pd.read_csv()` to collect our decisions as we proceed."
   ]
  },
  {
   "cell_type": "markdown",
   "metadata": {},
   "source": [
    "#### Instantiating `dtypes`, `converters`, and  `date_parser` parameters and Creating Lists for Numeric and Object Columns"
   ]
  },
  {
   "cell_type": "code",
   "execution_count": 14,
   "metadata": {},
   "outputs": [
    {
     "data": {
      "application/javascript": [
       "\n",
       "            setTimeout(function() {\n",
       "                var nbb_cell_id = 14;\n",
       "                var nbb_unformatted_code = \"dtypes = {}\\nconverters = {\\n    \\\"funded_at\\\": lambda x: pd.to_datetime(x, format=\\\"%Y-%m-%d\\\", errors=\\\"coerce\\\")\\n}\\n\\nnum_cols = [\\\"raised_amount_usd\\\"]\\nobj_cols = usecols.copy()\\nobj_cols.remove(\\\"raised_amount_usd\\\")\\nobj_cols.remove(\\\"funded_at\\\")\";\n",
       "                var nbb_formatted_code = \"dtypes = {}\\nconverters = {\\n    \\\"funded_at\\\": lambda x: pd.to_datetime(x, format=\\\"%Y-%m-%d\\\", errors=\\\"coerce\\\")\\n}\\n\\nnum_cols = [\\\"raised_amount_usd\\\"]\\nobj_cols = usecols.copy()\\nobj_cols.remove(\\\"raised_amount_usd\\\")\\nobj_cols.remove(\\\"funded_at\\\")\";\n",
       "                var nbb_cells = Jupyter.notebook.get_cells();\n",
       "                for (var i = 0; i < nbb_cells.length; ++i) {\n",
       "                    if (nbb_cells[i].input_prompt_number == nbb_cell_id) {\n",
       "                        if (nbb_cells[i].get_text() == nbb_unformatted_code) {\n",
       "                             nbb_cells[i].set_text(nbb_formatted_code);\n",
       "                        }\n",
       "                        break;\n",
       "                    }\n",
       "                }\n",
       "            }, 500);\n",
       "            "
      ],
      "text/plain": [
       "<IPython.core.display.Javascript object>"
      ]
     },
     "metadata": {},
     "output_type": "display_data"
    }
   ],
   "source": [
    "dtypes = {}\n",
    "converters = {\n",
    "    \"funded_at\": lambda x: pd.to_datetime(x, format=\"%Y-%m-%d\", errors=\"coerce\")\n",
    "}\n",
    "\n",
    "num_cols = [\"raised_amount_usd\"]\n",
    "obj_cols = usecols.copy()\n",
    "obj_cols.remove(\"raised_amount_usd\")\n",
    "obj_cols.remove(\"funded_at\")"
   ]
  },
  {
   "cell_type": "markdown",
   "metadata": {},
   "source": [
    "#### Checking Unique Value Counts for Object Type Columns"
   ]
  },
  {
   "cell_type": "code",
   "execution_count": 15,
   "metadata": {},
   "outputs": [
    {
     "name": "stdout",
     "output_type": "stream",
     "text": [
      "company_name \n",
      "\n",
      "ecomom                            58\n",
      "Fab.com                           57\n",
      "Aperto Networks                   49\n",
      "Practice Fusion                   47\n",
      "Klout                             46\n",
      "                                  ..\n",
      "ScribeStorm                        1\n",
      "FindMySong                         1\n",
      "Find That File                     1\n",
      "Financial Transaction Services     1\n",
      "Edupath                            1\n",
      "Name: company_name, Length: 11573, dtype: int64 --------------------------------------------------\n",
      "company_category_code \n",
      "\n",
      "software            7243\n",
      "web                 5015\n",
      "biotech             4951\n",
      "enterprise          4489\n",
      "mobile              4067\n",
      "advertising         3200\n",
      "ecommerce           2168\n",
      "cleantech           1948\n",
      "games_video         1893\n",
      "analytics           1863\n",
      "hardware            1537\n",
      "medical             1315\n",
      "semiconductor       1292\n",
      "network_hosting     1075\n",
      "security             996\n",
      "finance              931\n",
      "social               920\n",
      "education            783\n",
      "health               670\n",
      "public_relations     659\n",
      "search               632\n",
      "other                481\n",
      "messaging            452\n",
      "fashion              368\n",
      "news                 363\n",
      "travel               337\n",
      "hospitality          331\n",
      "manufacturing        310\n",
      "music                287\n",
      "consulting           233\n",
      "photo_video          230\n",
      "nanotech             216\n",
      "real_estate          190\n",
      "automotive           164\n",
      "nonprofit            149\n",
      "transportation       130\n",
      "sports               121\n",
      "legal                 87\n",
      "design                55\n",
      "pets                  43\n",
      "local                 22\n",
      "government            10\n",
      "2/7/08                 1\n",
      "Name: company_category_code, dtype: int64 --------------------------------------------------\n",
      "company_country_code \n",
      "\n",
      "USA        52868\n",
      "2008-02        1\n",
      "Name: company_country_code, dtype: int64 --------------------------------------------------\n",
      "company_state_code \n",
      "\n",
      "CA         27054\n",
      "NY          5890\n",
      "MA          4889\n",
      "WA          1888\n",
      "TX          1619\n",
      "CO           977\n",
      "PA           918\n",
      "IL           911\n",
      "VA           704\n",
      "NJ           691\n",
      "MD           600\n",
      "NC           596\n",
      "GA           568\n",
      "FL           550\n",
      "OR           466\n",
      "OH           439\n",
      "UT           419\n",
      "CT           333\n",
      "MI           265\n",
      "AZ           261\n",
      "DC           219\n",
      "MN           205\n",
      "RI           191\n",
      "MO           182\n",
      "TN           176\n",
      "WI           163\n",
      "NH           159\n",
      "IN           143\n",
      "NV           105\n",
      "SC            97\n",
      "ME            94\n",
      "NM            90\n",
      "KS            65\n",
      "VT            55\n",
      "KY            45\n",
      "LA            43\n",
      "NE            39\n",
      "MS            33\n",
      "IA            33\n",
      "AR            33\n",
      "ID            32\n",
      "HI            31\n",
      "OK            29\n",
      "DE            28\n",
      "MT            19\n",
      "AL            17\n",
      "WV             9\n",
      "SD             3\n",
      "WY             1\n",
      "2008-Q1        1\n",
      "Name: company_state_code, dtype: int64 --------------------------------------------------\n",
      "company_region \n",
      "\n",
      "SF Bay         22167\n",
      "New York        5849\n",
      "Boston          4805\n",
      "Los Angeles     2897\n",
      "Seattle         1736\n",
      "               ...  \n",
      "Lynchburg          1\n",
      "Loves Park         1\n",
      "Los Alamos         1\n",
      "Lititz             1\n",
      "2008               1\n",
      "Name: company_region, Length: 546, dtype: int64 --------------------------------------------------\n",
      "company_city \n",
      "\n",
      "San Francisco    8650\n",
      "New York         4963\n",
      "Mountain View    1873\n",
      "Palo Alto        1824\n",
      "Seattle          1258\n",
      "                 ... \n",
      "Newburyport         1\n",
      "Crozet              1\n",
      "New Yor             1\n",
      "New London          1\n",
      "westminster         1\n",
      "Name: company_city, Length: 1229, dtype: int64 --------------------------------------------------\n",
      "investor_name \n",
      "\n",
      "New Enterprise Associates           445\n",
      "SV Angel                            436\n",
      "Kleiner Perkins Caufield & Byers    393\n",
      "Sequoia Capital                     369\n",
      "Draper Fisher Jurvetson (DFJ)       360\n",
      "                                   ... \n",
      "Matt Dwyer                            1\n",
      "Matt Gilbert                          1\n",
      "Matt Greenfield                       1\n",
      "Matt Grodin                           1\n",
      "Keith Calder                          1\n",
      "Name: investor_name, Length: 10465, dtype: int64 --------------------------------------------------\n",
      "investor_region \n",
      "\n",
      "SF Bay           16974\n",
      "unknown          12285\n",
      "New York          4497\n",
      "Boston            3518\n",
      "Washington DC     1143\n",
      "                 ...  \n",
      "Lyon                 1\n",
      "Lysaker              1\n",
      "METZ                 1\n",
      "Maastricht           1\n",
      "Aalborg              1\n",
      "Name: investor_region, Length: 585, dtype: int64 --------------------------------------------------\n",
      "funding_round_type \n",
      "\n",
      "series-a          13938\n",
      "series-c+         10870\n",
      "angel              8989\n",
      "venture            8917\n",
      "series-b           8794\n",
      "other               964\n",
      "private-equity      357\n",
      "post-ipo             33\n",
      "crowdfunding          5\n",
      "Name: funding_round_type, dtype: int64 --------------------------------------------------\n"
     ]
    },
    {
     "data": {
      "application/javascript": [
       "\n",
       "            setTimeout(function() {\n",
       "                var nbb_cell_id = 15;\n",
       "                var nbb_unformatted_code = \"for col in obj_cols:\\n    chunk_iter = pd.read_csv(\\n        file,\\n        chunksize=chunksize,\\n        encoding=encoding,\\n        usecols=usecols,\\n        converters=converters,\\n    )\\n    chunk_vc = pd.concat([chunk[col].value_counts() for chunk in chunk_iter])\\n    total_vc = chunk_vc.groupby(chunk_vc.index).sum().sort_values(ascending=False)\\n    print(col, \\\"\\\\n\\\")\\n    print(total_vc, \\\"-\\\" * 50)\";\n",
       "                var nbb_formatted_code = \"for col in obj_cols:\\n    chunk_iter = pd.read_csv(\\n        file,\\n        chunksize=chunksize,\\n        encoding=encoding,\\n        usecols=usecols,\\n        converters=converters,\\n    )\\n    chunk_vc = pd.concat([chunk[col].value_counts() for chunk in chunk_iter])\\n    total_vc = chunk_vc.groupby(chunk_vc.index).sum().sort_values(ascending=False)\\n    print(col, \\\"\\\\n\\\")\\n    print(total_vc, \\\"-\\\" * 50)\";\n",
       "                var nbb_cells = Jupyter.notebook.get_cells();\n",
       "                for (var i = 0; i < nbb_cells.length; ++i) {\n",
       "                    if (nbb_cells[i].input_prompt_number == nbb_cell_id) {\n",
       "                        if (nbb_cells[i].get_text() == nbb_unformatted_code) {\n",
       "                             nbb_cells[i].set_text(nbb_formatted_code);\n",
       "                        }\n",
       "                        break;\n",
       "                    }\n",
       "                }\n",
       "            }, 500);\n",
       "            "
      ],
      "text/plain": [
       "<IPython.core.display.Javascript object>"
      ]
     },
     "metadata": {},
     "output_type": "display_data"
    }
   ],
   "source": [
    "for col in obj_cols:\n",
    "    chunk_iter = pd.read_csv(\n",
    "        file,\n",
    "        chunksize=chunksize,\n",
    "        encoding=encoding,\n",
    "        usecols=usecols,\n",
    "        converters=converters,\n",
    "    )\n",
    "    chunk_vc = pd.concat([chunk[col].value_counts() for chunk in chunk_iter])\n",
    "    total_vc = chunk_vc.groupby(chunk_vc.index).sum().sort_values(ascending=False)\n",
    "    print(col, \"\\n\")\n",
    "    print(total_vc, \"-\" * 50)"
   ]
  },
  {
   "cell_type": "markdown",
   "metadata": {},
   "source": [
    "#### Observations:\n",
    "- There is at least one problematic row, for entries are shifted for `company_category_code`, `company_country_code`, `company_state_code`, and `company_region`."
   ]
  },
  {
   "cell_type": "markdown",
   "metadata": {},
   "source": [
    "#### Checking for Erroneous Rows"
   ]
  },
  {
   "cell_type": "code",
   "execution_count": 16,
   "metadata": {},
   "outputs": [
    {
     "name": "stdout",
     "output_type": "stream",
     "text": [
      "      company_name company_category_code company_country_code  \\\n",
      "34226    series-c+                2/7/08              2008-02   \n",
      "\n",
      "      company_state_code company_region company_city investor_name  \\\n",
      "34226            2008-Q1           2008     10000000           NaN   \n",
      "\n",
      "      investor_region funding_round_type funded_at  raised_amount_usd  \n",
      "34226             NaN                NaN       NaT                NaN  \n"
     ]
    },
    {
     "data": {
      "application/javascript": [
       "\n",
       "            setTimeout(function() {\n",
       "                var nbb_cell_id = 16;\n",
       "                var nbb_unformatted_code = \"chunk_iter = pd.read_csv(\\n    file,\\n    chunksize=chunksize,\\n    encoding=encoding,\\n    usecols=usecols,\\n    converters=converters,\\n)\\nfor chunk in chunk_iter:\\n    index = (\\n        (chunk[\\\"company_category_code\\\"] == \\\"2/7/08\\\")\\n        | (chunk[\\\"company_country_code\\\"] == \\\"2008-02\\\")\\n        | (chunk[\\\"company_state_code\\\"] == \\\"2008-Q1\\\")\\n        | (chunk[\\\"company_region\\\"] == \\\"2008\\\")\\n    )\\n    if len(chunk.loc[index, :]) > 0:\\n        print(chunk.loc[index, :])\";\n",
       "                var nbb_formatted_code = \"chunk_iter = pd.read_csv(\\n    file,\\n    chunksize=chunksize,\\n    encoding=encoding,\\n    usecols=usecols,\\n    converters=converters,\\n)\\nfor chunk in chunk_iter:\\n    index = (\\n        (chunk[\\\"company_category_code\\\"] == \\\"2/7/08\\\")\\n        | (chunk[\\\"company_country_code\\\"] == \\\"2008-02\\\")\\n        | (chunk[\\\"company_state_code\\\"] == \\\"2008-Q1\\\")\\n        | (chunk[\\\"company_region\\\"] == \\\"2008\\\")\\n    )\\n    if len(chunk.loc[index, :]) > 0:\\n        print(chunk.loc[index, :])\";\n",
       "                var nbb_cells = Jupyter.notebook.get_cells();\n",
       "                for (var i = 0; i < nbb_cells.length; ++i) {\n",
       "                    if (nbb_cells[i].input_prompt_number == nbb_cell_id) {\n",
       "                        if (nbb_cells[i].get_text() == nbb_unformatted_code) {\n",
       "                             nbb_cells[i].set_text(nbb_formatted_code);\n",
       "                        }\n",
       "                        break;\n",
       "                    }\n",
       "                }\n",
       "            }, 500);\n",
       "            "
      ],
      "text/plain": [
       "<IPython.core.display.Javascript object>"
      ]
     },
     "metadata": {},
     "output_type": "display_data"
    }
   ],
   "source": [
    "chunk_iter = pd.read_csv(\n",
    "    file,\n",
    "    chunksize=chunksize,\n",
    "    encoding=encoding,\n",
    "    usecols=usecols,\n",
    "    converters=converters,\n",
    ")\n",
    "for chunk in chunk_iter:\n",
    "    index = (\n",
    "        (chunk[\"company_category_code\"] == \"2/7/08\")\n",
    "        | (chunk[\"company_country_code\"] == \"2008-02\")\n",
    "        | (chunk[\"company_state_code\"] == \"2008-Q1\")\n",
    "        | (chunk[\"company_region\"] == \"2008\")\n",
    "    )\n",
    "    if len(chunk.loc[index, :]) > 0:\n",
    "        print(chunk.loc[index, :])"
   ]
  },
  {
   "cell_type": "markdown",
   "metadata": {},
   "source": [
    "#### Observations:\n",
    "- The entry at index 34226 has information in the wrong columns.\n",
    "- This row could be skipped using the `skiprows` parameter of `pd.read_csv()`.\n",
    "- For our purposes here we will include it."
   ]
  },
  {
   "cell_type": "markdown",
   "metadata": {},
   "source": [
    "#### Checking Total Number of Unique Values for Object Columns"
   ]
  },
  {
   "cell_type": "code",
   "execution_count": 17,
   "metadata": {},
   "outputs": [
    {
     "name": "stdout",
     "output_type": "stream",
     "text": [
      "company_name :  11573\n",
      "company_category_code :  43\n",
      "company_country_code :  2\n",
      "company_state_code :  50\n",
      "company_region :  546\n",
      "company_city :  1229\n",
      "investor_name :  10465\n",
      "investor_region :  585\n",
      "funding_round_type :  9\n"
     ]
    },
    {
     "data": {
      "application/javascript": [
       "\n",
       "            setTimeout(function() {\n",
       "                var nbb_cell_id = 17;\n",
       "                var nbb_unformatted_code = \"for col in obj_cols:\\n    chunk_iter = pd.read_csv(\\n        file,\\n        chunksize=chunksize,\\n        encoding=encoding,\\n        usecols=[col],\\n        converters=converters,\\n    )\\n    chunk_vc = pd.concat([chunk[col].value_counts() for chunk in chunk_iter])\\n    num_unique = len(set(chunk_vc.index))\\n    print(col, \\\": \\\", num_unique)\";\n",
       "                var nbb_formatted_code = \"for col in obj_cols:\\n    chunk_iter = pd.read_csv(\\n        file,\\n        chunksize=chunksize,\\n        encoding=encoding,\\n        usecols=[col],\\n        converters=converters,\\n    )\\n    chunk_vc = pd.concat([chunk[col].value_counts() for chunk in chunk_iter])\\n    num_unique = len(set(chunk_vc.index))\\n    print(col, \\\": \\\", num_unique)\";\n",
       "                var nbb_cells = Jupyter.notebook.get_cells();\n",
       "                for (var i = 0; i < nbb_cells.length; ++i) {\n",
       "                    if (nbb_cells[i].input_prompt_number == nbb_cell_id) {\n",
       "                        if (nbb_cells[i].get_text() == nbb_unformatted_code) {\n",
       "                             nbb_cells[i].set_text(nbb_formatted_code);\n",
       "                        }\n",
       "                        break;\n",
       "                    }\n",
       "                }\n",
       "            }, 500);\n",
       "            "
      ],
      "text/plain": [
       "<IPython.core.display.Javascript object>"
      ]
     },
     "metadata": {},
     "output_type": "display_data"
    }
   ],
   "source": [
    "for col in obj_cols:\n",
    "    chunk_iter = pd.read_csv(\n",
    "        file,\n",
    "        chunksize=chunksize,\n",
    "        encoding=encoding,\n",
    "        usecols=[col],\n",
    "        converters=converters,\n",
    "    )\n",
    "    chunk_vc = pd.concat([chunk[col].value_counts() for chunk in chunk_iter])\n",
    "    num_unique = len(set(chunk_vc.index))\n",
    "    print(col, \": \", num_unique)"
   ]
  },
  {
   "cell_type": "markdown",
   "metadata": {},
   "source": [
    "#### Observations:\n",
    "- The following columns can be read into Python as category type:\n",
    "    - `company_category_code`\n",
    "    - `company_country_code`\n",
    "    - `company_state_code`\n",
    "    - `funding_round_type`\n",
    "- There is some variation in case of the first letter in `company_city` that may occur elsewhere."
   ]
  },
  {
   "cell_type": "markdown",
   "metadata": {},
   "source": [
    "#### Updating `dtypes` for Category Columns"
   ]
  },
  {
   "cell_type": "code",
   "execution_count": 18,
   "metadata": {},
   "outputs": [
    {
     "data": {
      "application/javascript": [
       "\n",
       "            setTimeout(function() {\n",
       "                var nbb_cell_id = 18;\n",
       "                var nbb_unformatted_code = \"cat_cols = [\\n    \\\"company_category_code\\\",\\n    \\\"company_country_code\\\",\\n    \\\"company_state_code\\\",\\n    \\\"funding_round_type\\\",\\n]\\nfor col in cat_cols:\\n    dtypes[col] = \\\"category\\\"\";\n",
       "                var nbb_formatted_code = \"cat_cols = [\\n    \\\"company_category_code\\\",\\n    \\\"company_country_code\\\",\\n    \\\"company_state_code\\\",\\n    \\\"funding_round_type\\\",\\n]\\nfor col in cat_cols:\\n    dtypes[col] = \\\"category\\\"\";\n",
       "                var nbb_cells = Jupyter.notebook.get_cells();\n",
       "                for (var i = 0; i < nbb_cells.length; ++i) {\n",
       "                    if (nbb_cells[i].input_prompt_number == nbb_cell_id) {\n",
       "                        if (nbb_cells[i].get_text() == nbb_unformatted_code) {\n",
       "                             nbb_cells[i].set_text(nbb_formatted_code);\n",
       "                        }\n",
       "                        break;\n",
       "                    }\n",
       "                }\n",
       "            }, 500);\n",
       "            "
      ],
      "text/plain": [
       "<IPython.core.display.Javascript object>"
      ]
     },
     "metadata": {},
     "output_type": "display_data"
    }
   ],
   "source": [
    "cat_cols = [\n",
    "    \"company_category_code\",\n",
    "    \"company_country_code\",\n",
    "    \"company_state_code\",\n",
    "    \"funding_round_type\",\n",
    "]\n",
    "for col in cat_cols:\n",
    "    dtypes[col] = \"category\""
   ]
  },
  {
   "cell_type": "markdown",
   "metadata": {},
   "source": [
    "#### Checking Float Column for Potential Downcasting to Smaller Subtype"
   ]
  },
  {
   "cell_type": "code",
   "execution_count": 19,
   "metadata": {},
   "outputs": [
    {
     "data": {
      "text/plain": [
       "{'company_category_code': 'category',\n",
       " 'company_country_code': 'category',\n",
       " 'company_state_code': 'category',\n",
       " 'funding_round_type': 'category',\n",
       " 'raised_amount_usd': 'float32'}"
      ]
     },
     "execution_count": 19,
     "metadata": {},
     "output_type": "execute_result"
    },
    {
     "data": {
      "application/javascript": [
       "\n",
       "            setTimeout(function() {\n",
       "                var nbb_cell_id = 19;\n",
       "                var nbb_unformatted_code = \"mapping = {\\\"float16\\\": 0, \\\"float32\\\": 1, \\\"float64\\\": 2}\\nfor col in num_cols:\\n    low_type = \\\"float16\\\"\\n    chunk_iter = pd.read_csv(\\n        file,\\n        chunksize=chunksize,\\n        usecols=[col],\\n        encoding=encoding,\\n        converters=converters,\\n    )\\n    chunk[col] = pd.to_numeric(chunk[col], downcast=\\\"float\\\")\\n    if mapping[str(chunk[col].dtype)] > mapping[str(low_type)]:\\n        low_type = chunk[col].dtype\\n    dtypes[col] = str(low_type)\\n\\ndtypes\";\n",
       "                var nbb_formatted_code = \"mapping = {\\\"float16\\\": 0, \\\"float32\\\": 1, \\\"float64\\\": 2}\\nfor col in num_cols:\\n    low_type = \\\"float16\\\"\\n    chunk_iter = pd.read_csv(\\n        file,\\n        chunksize=chunksize,\\n        usecols=[col],\\n        encoding=encoding,\\n        converters=converters,\\n    )\\n    chunk[col] = pd.to_numeric(chunk[col], downcast=\\\"float\\\")\\n    if mapping[str(chunk[col].dtype)] > mapping[str(low_type)]:\\n        low_type = chunk[col].dtype\\n    dtypes[col] = str(low_type)\\n\\ndtypes\";\n",
       "                var nbb_cells = Jupyter.notebook.get_cells();\n",
       "                for (var i = 0; i < nbb_cells.length; ++i) {\n",
       "                    if (nbb_cells[i].input_prompt_number == nbb_cell_id) {\n",
       "                        if (nbb_cells[i].get_text() == nbb_unformatted_code) {\n",
       "                             nbb_cells[i].set_text(nbb_formatted_code);\n",
       "                        }\n",
       "                        break;\n",
       "                    }\n",
       "                }\n",
       "            }, 500);\n",
       "            "
      ],
      "text/plain": [
       "<IPython.core.display.Javascript object>"
      ]
     },
     "metadata": {},
     "output_type": "display_data"
    }
   ],
   "source": [
    "mapping = {\"float16\": 0, \"float32\": 1, \"float64\": 2}\n",
    "for col in num_cols:\n",
    "    low_type = \"float16\"\n",
    "    chunk_iter = pd.read_csv(\n",
    "        file,\n",
    "        chunksize=chunksize,\n",
    "        usecols=[col],\n",
    "        encoding=encoding,\n",
    "        converters=converters,\n",
    "    )\n",
    "    chunk[col] = pd.to_numeric(chunk[col], downcast=\"float\")\n",
    "    if mapping[str(chunk[col].dtype)] > mapping[str(low_type)]:\n",
    "        low_type = chunk[col].dtype\n",
    "    dtypes[col] = str(low_type)\n",
    "\n",
    "dtypes"
   ]
  },
  {
   "cell_type": "markdown",
   "metadata": {},
   "source": [
    "#### Observations:\n",
    "- We were able to find more optimal datatypes for 6 of the 12 columns that we are including, including parsing the date for `funded_at`.\n",
    "- Though some of the remaining object type columns have under 50% unique values, their potential for variability lends itself to remaining as object type, for now."
   ]
  },
  {
   "cell_type": "markdown",
   "metadata": {},
   "source": [
    "## Checking the Anticipated Memory Footprint"
   ]
  },
  {
   "cell_type": "code",
   "execution_count": 20,
   "metadata": {},
   "outputs": [
    {
     "name": "stdout",
     "output_type": "stream",
     "text": [
      "Anticipated Memory Footprint for Batch Processing in MB:\n",
      "\n",
      "Index                    0.001381\n",
      "company_category_code    0.091980\n",
      "company_city             3.343512\n",
      "company_country_code     0.051188\n",
      "company_name             3.424955\n",
      "company_region           3.253541\n",
      "company_state_code       0.091649\n",
      "funded_at                0.403366\n",
      "funding_round_type       0.059248\n",
      "investor_name            3.734270\n",
      "investor_region          3.238946\n",
      "raised_amount_usd        0.201683\n",
      "dtype: float64\n",
      "Total:  17.895718574523926 MB\n"
     ]
    },
    {
     "data": {
      "application/javascript": [
       "\n",
       "            setTimeout(function() {\n",
       "                var nbb_cell_id = 20;\n",
       "                var nbb_unformatted_code = \"print(\\\"Anticipated Memory Footprint for Batch Processing in MB:\\\\n\\\")\\nchunk_iter = pd.read_csv(\\n    file,\\n    chunksize=chunksize,\\n    encoding=encoding,\\n    usecols=usecols,\\n    converters=converters,\\n    dtype=dtypes,\\n)\\nchunk_memory = pd.concat([chunk.memory_usage(deep=True) for chunk in chunk_iter])\\nfinal_footprint = chunk_memory.groupby(chunk_memory.index).sum() / (2**20)\\nprint(final_footprint)\\nprint(\\\"Total: \\\", final_footprint.sum(), \\\"MB\\\")\";\n",
       "                var nbb_formatted_code = \"print(\\\"Anticipated Memory Footprint for Batch Processing in MB:\\\\n\\\")\\nchunk_iter = pd.read_csv(\\n    file,\\n    chunksize=chunksize,\\n    encoding=encoding,\\n    usecols=usecols,\\n    converters=converters,\\n    dtype=dtypes,\\n)\\nchunk_memory = pd.concat([chunk.memory_usage(deep=True) for chunk in chunk_iter])\\nfinal_footprint = chunk_memory.groupby(chunk_memory.index).sum() / (2**20)\\nprint(final_footprint)\\nprint(\\\"Total: \\\", final_footprint.sum(), \\\"MB\\\")\";\n",
       "                var nbb_cells = Jupyter.notebook.get_cells();\n",
       "                for (var i = 0; i < nbb_cells.length; ++i) {\n",
       "                    if (nbb_cells[i].input_prompt_number == nbb_cell_id) {\n",
       "                        if (nbb_cells[i].get_text() == nbb_unformatted_code) {\n",
       "                             nbb_cells[i].set_text(nbb_formatted_code);\n",
       "                        }\n",
       "                        break;\n",
       "                    }\n",
       "                }\n",
       "            }, 500);\n",
       "            "
      ],
      "text/plain": [
       "<IPython.core.display.Javascript object>"
      ]
     },
     "metadata": {},
     "output_type": "display_data"
    }
   ],
   "source": [
    "print(\"Anticipated Memory Footprint for Batch Processing in MB:\\n\")\n",
    "chunk_iter = pd.read_csv(\n",
    "    file,\n",
    "    chunksize=chunksize,\n",
    "    encoding=encoding,\n",
    "    usecols=usecols,\n",
    "    converters=converters,\n",
    "    dtype=dtypes,\n",
    ")\n",
    "chunk_memory = pd.concat([chunk.memory_usage(deep=True) for chunk in chunk_iter])\n",
    "final_footprint = chunk_memory.groupby(chunk_memory.index).sum() / (2**20)\n",
    "print(final_footprint)\n",
    "print(\"Total: \", final_footprint.sum(), \"MB\")"
   ]
  },
  {
   "cell_type": "markdown",
   "metadata": {},
   "source": [
    "#### Observations:\n",
    "- We just received a request to get the entire memory footprint below 10 MB.\n",
    "- To do so, we will proceed to cast `company_region` and `investor_region` as category, then recheck the memory footprint."
   ]
  },
  {
   "cell_type": "markdown",
   "metadata": {},
   "source": [
    "#### Adding More Object Columns to `dtypes`"
   ]
  },
  {
   "cell_type": "code",
   "execution_count": 24,
   "metadata": {},
   "outputs": [
    {
     "data": {
      "application/javascript": [
       "\n",
       "            setTimeout(function() {\n",
       "                var nbb_cell_id = 24;\n",
       "                var nbb_unformatted_code = \"for col in [\\\"company_region\\\", \\\"investor_region\\\"]:\\n    dtypes[col] = \\\"category\\\"\";\n",
       "                var nbb_formatted_code = \"for col in [\\\"company_region\\\", \\\"investor_region\\\"]:\\n    dtypes[col] = \\\"category\\\"\";\n",
       "                var nbb_cells = Jupyter.notebook.get_cells();\n",
       "                for (var i = 0; i < nbb_cells.length; ++i) {\n",
       "                    if (nbb_cells[i].input_prompt_number == nbb_cell_id) {\n",
       "                        if (nbb_cells[i].get_text() == nbb_unformatted_code) {\n",
       "                             nbb_cells[i].set_text(nbb_formatted_code);\n",
       "                        }\n",
       "                        break;\n",
       "                    }\n",
       "                }\n",
       "            }, 500);\n",
       "            "
      ],
      "text/plain": [
       "<IPython.core.display.Javascript object>"
      ]
     },
     "metadata": {},
     "output_type": "display_data"
    }
   ],
   "source": [
    "for col in [\"company_region\", \"investor_region\"]:\n",
    "    dtypes[col] = \"category\""
   ]
  },
  {
   "cell_type": "markdown",
   "metadata": {},
   "source": [
    "#### Re-checking Memory Footprint"
   ]
  },
  {
   "cell_type": "code",
   "execution_count": 25,
   "metadata": {},
   "outputs": [
    {
     "name": "stdout",
     "output_type": "stream",
     "text": [
      "Anticipated Memory Footprint for Batch Processing in MB:\n",
      "\n",
      "Index                    0.001381\n",
      "company_category_code    0.091980\n",
      "company_city             0.624051\n",
      "company_country_code     0.051188\n",
      "company_name             3.424955\n",
      "company_region           0.317376\n",
      "company_state_code       0.091649\n",
      "funded_at                0.403366\n",
      "funding_round_type       0.059248\n",
      "investor_name            1.163946\n",
      "investor_region          0.217028\n",
      "raised_amount_usd        0.201683\n",
      "dtype: float64\n",
      "Total:  6.64785099029541 MB\n"
     ]
    },
    {
     "data": {
      "application/javascript": [
       "\n",
       "            setTimeout(function() {\n",
       "                var nbb_cell_id = 25;\n",
       "                var nbb_unformatted_code = \"print(\\\"Anticipated Memory Footprint for Batch Processing in MB:\\\\n\\\")\\nchunk_iter = pd.read_csv(\\n    file,\\n    chunksize=chunksize,\\n    encoding=encoding,\\n    usecols=usecols,\\n    converters=converters,\\n    dtype=dtypes,\\n)\\nchunk_memory = pd.concat([chunk.memory_usage(deep=True) for chunk in chunk_iter])\\nfinal_footprint = chunk_memory.groupby(chunk_memory.index).sum() / (2**20)\\nprint(final_footprint)\\nprint(\\\"Total: \\\", final_footprint.sum(), \\\"MB\\\")\";\n",
       "                var nbb_formatted_code = \"print(\\\"Anticipated Memory Footprint for Batch Processing in MB:\\\\n\\\")\\nchunk_iter = pd.read_csv(\\n    file,\\n    chunksize=chunksize,\\n    encoding=encoding,\\n    usecols=usecols,\\n    converters=converters,\\n    dtype=dtypes,\\n)\\nchunk_memory = pd.concat([chunk.memory_usage(deep=True) for chunk in chunk_iter])\\nfinal_footprint = chunk_memory.groupby(chunk_memory.index).sum() / (2**20)\\nprint(final_footprint)\\nprint(\\\"Total: \\\", final_footprint.sum(), \\\"MB\\\")\";\n",
       "                var nbb_cells = Jupyter.notebook.get_cells();\n",
       "                for (var i = 0; i < nbb_cells.length; ++i) {\n",
       "                    if (nbb_cells[i].input_prompt_number == nbb_cell_id) {\n",
       "                        if (nbb_cells[i].get_text() == nbb_unformatted_code) {\n",
       "                             nbb_cells[i].set_text(nbb_formatted_code);\n",
       "                        }\n",
       "                        break;\n",
       "                    }\n",
       "                }\n",
       "            }, 500);\n",
       "            "
      ],
      "text/plain": [
       "<IPython.core.display.Javascript object>"
      ]
     },
     "metadata": {},
     "output_type": "display_data"
    }
   ],
   "source": [
    "print(\"Anticipated Memory Footprint for Batch Processing in MB:\\n\")\n",
    "chunk_iter = pd.read_csv(\n",
    "    file,\n",
    "    chunksize=chunksize,\n",
    "    encoding=encoding,\n",
    "    usecols=usecols,\n",
    "    converters=converters,\n",
    "    dtype=dtypes,\n",
    ")\n",
    "chunk_memory = pd.concat([chunk.memory_usage(deep=True) for chunk in chunk_iter])\n",
    "final_footprint = chunk_memory.groupby(chunk_memory.index).sum() / (2**20)\n",
    "print(final_footprint)\n",
    "print(\"Total: \", final_footprint.sum(), \"MB\")"
   ]
  },
  {
   "cell_type": "markdown",
   "metadata": {},
   "source": [
    "#### Observations:\n",
    "- That got us under 10 MB.\n",
    "- We can no proceed to loading the data into a sqlite database.\n",
    "- We have been asked to load each chunk as a new table in the database."
   ]
  },
  {
   "cell_type": "markdown",
   "metadata": {},
   "source": [
    "## Loading Chunks into SQLite"
   ]
  },
  {
   "cell_type": "code",
   "execution_count": 28,
   "metadata": {},
   "outputs": [
    {
     "data": {
      "application/javascript": [
       "\n",
       "            setTimeout(function() {\n",
       "                var nbb_cell_id = 28;\n",
       "                var nbb_unformatted_code = \"conn = sql.connect(\\\"crunchbase.db\\\")\\nchunk_iter = pd.read_csv(\\n    file,\\n    chunksize=chunksize,\\n    encoding=encoding,\\n    converters=converters,\\n    usecols=usecols,\\n    dtype=dtypes,\\n)\\nfor i, chunk in enumerate(chunk_iter):\\n    chunk.to_sql(f\\\"investments_{i}\\\", conn, if_exists=\\\"append\\\", index=False)\";\n",
       "                var nbb_formatted_code = \"conn = sql.connect(\\\"crunchbase.db\\\")\\nchunk_iter = pd.read_csv(\\n    file,\\n    chunksize=chunksize,\\n    encoding=encoding,\\n    converters=converters,\\n    usecols=usecols,\\n    dtype=dtypes,\\n)\\nfor i, chunk in enumerate(chunk_iter):\\n    chunk.to_sql(f\\\"investments_{i}\\\", conn, if_exists=\\\"append\\\", index=False)\";\n",
       "                var nbb_cells = Jupyter.notebook.get_cells();\n",
       "                for (var i = 0; i < nbb_cells.length; ++i) {\n",
       "                    if (nbb_cells[i].input_prompt_number == nbb_cell_id) {\n",
       "                        if (nbb_cells[i].get_text() == nbb_unformatted_code) {\n",
       "                             nbb_cells[i].set_text(nbb_formatted_code);\n",
       "                        }\n",
       "                        break;\n",
       "                    }\n",
       "                }\n",
       "            }, 500);\n",
       "            "
      ],
      "text/plain": [
       "<IPython.core.display.Javascript object>"
      ]
     },
     "metadata": {},
     "output_type": "display_data"
    }
   ],
   "source": [
    "conn = sql.connect(\"crunchbase.db\")\n",
    "chunk_iter = pd.read_csv(\n",
    "    file,\n",
    "    chunksize=chunksize,\n",
    "    encoding=encoding,\n",
    "    converters=converters,\n",
    "    usecols=usecols,\n",
    "    dtype=dtypes,\n",
    ")\n",
    "for i, chunk in enumerate(chunk_iter):\n",
    "    chunk.to_sql(f\"investments_{i}\", conn, if_exists=\"append\", index=False)"
   ]
  },
  {
   "cell_type": "markdown",
   "metadata": {},
   "source": [
    "## Test Query"
   ]
  },
  {
   "cell_type": "code",
   "execution_count": 44,
   "metadata": {},
   "outputs": [
    {
     "data": {
      "text/html": [
       "<div>\n",
       "<style scoped>\n",
       "    .dataframe tbody tr th:only-of-type {\n",
       "        vertical-align: middle;\n",
       "    }\n",
       "\n",
       "    .dataframe tbody tr th {\n",
       "        vertical-align: top;\n",
       "    }\n",
       "\n",
       "    .dataframe thead th {\n",
       "        text-align: right;\n",
       "    }\n",
       "</style>\n",
       "<table border=\"1\" class=\"dataframe\">\n",
       "  <thead>\n",
       "    <tr style=\"text-align: right;\">\n",
       "      <th></th>\n",
       "      <th>company_name</th>\n",
       "      <th>company_category_code</th>\n",
       "      <th>company_country_code</th>\n",
       "      <th>company_state_code</th>\n",
       "      <th>company_region</th>\n",
       "      <th>company_city</th>\n",
       "      <th>investor_name</th>\n",
       "      <th>investor_region</th>\n",
       "      <th>funding_round_type</th>\n",
       "      <th>funded_at</th>\n",
       "      <th>raised_amount_usd</th>\n",
       "    </tr>\n",
       "  </thead>\n",
       "  <tbody>\n",
       "    <tr>\n",
       "      <th>0</th>\n",
       "      <td>NuORDER</td>\n",
       "      <td>fashion</td>\n",
       "      <td>USA</td>\n",
       "      <td>CA</td>\n",
       "      <td>Los Angeles</td>\n",
       "      <td>West Hollywood</td>\n",
       "      <td>Mortimer Singer</td>\n",
       "      <td>unknown</td>\n",
       "      <td>series-a</td>\n",
       "      <td>2012-10-01</td>\n",
       "      <td>3060000.0</td>\n",
       "    </tr>\n",
       "    <tr>\n",
       "      <th>1</th>\n",
       "      <td>ChaCha</td>\n",
       "      <td>advertising</td>\n",
       "      <td>USA</td>\n",
       "      <td>IN</td>\n",
       "      <td>Indianapolis</td>\n",
       "      <td>Carmel</td>\n",
       "      <td>Morton Meyerson</td>\n",
       "      <td>unknown</td>\n",
       "      <td>series-b</td>\n",
       "      <td>2007-10-01</td>\n",
       "      <td>12000000.0</td>\n",
       "    </tr>\n",
       "    <tr>\n",
       "      <th>2</th>\n",
       "      <td>Binfire</td>\n",
       "      <td>software</td>\n",
       "      <td>USA</td>\n",
       "      <td>FL</td>\n",
       "      <td>Bocat Raton</td>\n",
       "      <td>Bocat Raton</td>\n",
       "      <td>Moshe Ariel</td>\n",
       "      <td>unknown</td>\n",
       "      <td>angel</td>\n",
       "      <td>2008-04-18</td>\n",
       "      <td>500000.0</td>\n",
       "    </tr>\n",
       "    <tr>\n",
       "      <th>3</th>\n",
       "      <td>Binfire</td>\n",
       "      <td>software</td>\n",
       "      <td>USA</td>\n",
       "      <td>FL</td>\n",
       "      <td>Bocat Raton</td>\n",
       "      <td>Bocat Raton</td>\n",
       "      <td>Moshe Ariel</td>\n",
       "      <td>unknown</td>\n",
       "      <td>angel</td>\n",
       "      <td>2010-01-01</td>\n",
       "      <td>750000.0</td>\n",
       "    </tr>\n",
       "    <tr>\n",
       "      <th>4</th>\n",
       "      <td>Unified Color</td>\n",
       "      <td>software</td>\n",
       "      <td>USA</td>\n",
       "      <td>CA</td>\n",
       "      <td>SF Bay</td>\n",
       "      <td>South San Frnacisco</td>\n",
       "      <td>Mr. Andrew Oung</td>\n",
       "      <td>unknown</td>\n",
       "      <td>angel</td>\n",
       "      <td>2010-01-01</td>\n",
       "      <td>NaN</td>\n",
       "    </tr>\n",
       "  </tbody>\n",
       "</table>\n",
       "</div>"
      ],
      "text/plain": [
       "    company_name company_category_code company_country_code  \\\n",
       "0        NuORDER               fashion                  USA   \n",
       "1         ChaCha           advertising                  USA   \n",
       "2        Binfire              software                  USA   \n",
       "3        Binfire              software                  USA   \n",
       "4  Unified Color              software                  USA   \n",
       "\n",
       "  company_state_code company_region         company_city    investor_name  \\\n",
       "0                 CA    Los Angeles       West Hollywood  Mortimer Singer   \n",
       "1                 IN   Indianapolis               Carmel  Morton Meyerson   \n",
       "2                 FL    Bocat Raton          Bocat Raton      Moshe Ariel   \n",
       "3                 FL    Bocat Raton          Bocat Raton      Moshe Ariel   \n",
       "4                 CA         SF Bay  South San Frnacisco  Mr. Andrew Oung   \n",
       "\n",
       "  investor_region funding_round_type  funded_at  raised_amount_usd  \n",
       "0         unknown           series-a 2012-10-01          3060000.0  \n",
       "1         unknown           series-b 2007-10-01         12000000.0  \n",
       "2         unknown              angel 2008-04-18           500000.0  \n",
       "3         unknown              angel 2010-01-01           750000.0  \n",
       "4         unknown              angel 2010-01-01                NaN  "
      ]
     },
     "execution_count": 44,
     "metadata": {},
     "output_type": "execute_result"
    },
    {
     "data": {
      "application/javascript": [
       "\n",
       "            setTimeout(function() {\n",
       "                var nbb_cell_id = 44;\n",
       "                var nbb_unformatted_code = \"df = pd.read_sql(\\\"SELECT * FROM investments_10 LIMIT 5;\\\", conn, parse_dates=\\\"funded_at\\\")\\ndf\";\n",
       "                var nbb_formatted_code = \"df = pd.read_sql(\\\"SELECT * FROM investments_10 LIMIT 5;\\\", conn, parse_dates=\\\"funded_at\\\")\\ndf\";\n",
       "                var nbb_cells = Jupyter.notebook.get_cells();\n",
       "                for (var i = 0; i < nbb_cells.length; ++i) {\n",
       "                    if (nbb_cells[i].input_prompt_number == nbb_cell_id) {\n",
       "                        if (nbb_cells[i].get_text() == nbb_unformatted_code) {\n",
       "                             nbb_cells[i].set_text(nbb_formatted_code);\n",
       "                        }\n",
       "                        break;\n",
       "                    }\n",
       "                }\n",
       "            }, 500);\n",
       "            "
      ],
      "text/plain": [
       "<IPython.core.display.Javascript object>"
      ]
     },
     "metadata": {},
     "output_type": "display_data"
    }
   ],
   "source": [
    "df = pd.read_sql(\"SELECT * FROM investments_10 LIMIT 5;\", conn, parse_dates=\"funded_at\")\n",
    "df"
   ]
  },
  {
   "cell_type": "code",
   "execution_count": 45,
   "metadata": {},
   "outputs": [
    {
     "data": {
      "text/plain": [
       "company_name                     object\n",
       "company_category_code            object\n",
       "company_country_code             object\n",
       "company_state_code               object\n",
       "company_region                   object\n",
       "company_city                     object\n",
       "investor_name                    object\n",
       "investor_region                  object\n",
       "funding_round_type               object\n",
       "funded_at                datetime64[ns]\n",
       "raised_amount_usd               float64\n",
       "dtype: object"
      ]
     },
     "execution_count": 45,
     "metadata": {},
     "output_type": "execute_result"
    },
    {
     "data": {
      "application/javascript": [
       "\n",
       "            setTimeout(function() {\n",
       "                var nbb_cell_id = 45;\n",
       "                var nbb_unformatted_code = \"df.dtypes\";\n",
       "                var nbb_formatted_code = \"df.dtypes\";\n",
       "                var nbb_cells = Jupyter.notebook.get_cells();\n",
       "                for (var i = 0; i < nbb_cells.length; ++i) {\n",
       "                    if (nbb_cells[i].input_prompt_number == nbb_cell_id) {\n",
       "                        if (nbb_cells[i].get_text() == nbb_unformatted_code) {\n",
       "                             nbb_cells[i].set_text(nbb_formatted_code);\n",
       "                        }\n",
       "                        break;\n",
       "                    }\n",
       "                }\n",
       "            }, 500);\n",
       "            "
      ],
      "text/plain": [
       "<IPython.core.display.Javascript object>"
      ]
     },
     "metadata": {},
     "output_type": "display_data"
    }
   ],
   "source": [
    "df.dtypes"
   ]
  }
 ],
 "metadata": {
  "anaconda-cloud": {},
  "kernelspec": {
   "display_name": "Python 3",
   "language": "python",
   "name": "python3"
  },
  "language_info": {
   "codemirror_mode": {
    "name": "ipython",
    "version": 3
   },
   "file_extension": ".py",
   "mimetype": "text/x-python",
   "name": "python",
   "nbconvert_exporter": "python",
   "pygments_lexer": "ipython3",
   "version": "3.8.2"
  }
 },
 "nbformat": 4,
 "nbformat_minor": 2
}
